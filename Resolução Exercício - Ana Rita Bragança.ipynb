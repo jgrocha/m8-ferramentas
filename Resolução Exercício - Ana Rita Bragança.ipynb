{
 "cells": [
  {
   "cell_type": "markdown",
   "id": "639ea714",
   "metadata": {},
   "source": [
    "### Exercicio de sequências para treinar expressões regulares\n",
    "\n",
    "Ana Rita Bragança, nº aluno - ae6237, email - ae6237@alunos.uminho.pt"
   ]
  },
  {
   "cell_type": "markdown",
   "id": "6d843b43",
   "metadata": {},
   "source": [
    "Anotação do SOURCE, ACCESSION, KEYWORDS, PUBLICATION DATE, ORIGIN (SEQUENCE)"
   ]
  },
  {
   "cell_type": "code",
   "execution_count": 150,
   "id": "d651de35",
   "metadata": {},
   "outputs": [
    {
     "name": "stdout",
     "output_type": "stream",
     "text": [
      "LOCUS       X80721                  1448 bp    DNA     linear   BCT 29-MAR-1996\n",
      "DEFINITION  E.coli rrnA gene.\n",
      "ACCESSION   X80721\n",
      "VERSION     X80721.1\n",
      "KEYWORDS    16S ribosomal RNA; 16S rRNA gene; 16S small subunit ribosomal RNA.\n",
      "SOURCE      Escherichia coli\n",
      "  ORGANISM  Escherichia coli\n",
      "            Bacteria; Proteobacteria; Gammaproteobacteria; Enterobacterales;\n",
      "            Enterobacteriaceae; Escherichia.\n",
      "REFERENCE   1\n",
      "  AUTHORS   Cilia,V., Lafay,B. and Christen,R.\n",
      "  TITLE     Sequence heterogeneities among 16S ribosomal RNA sequences, and\n",
      "            their effect on phylogenetic analyses at the species level\n",
      "  JOURNAL   Mol. Biol. Evol. 13 (3), 451-461 (1996)\n",
      "   PUBMED   8742634\n",
      "REFERENCE   2  (bases 1 to 1448)\n",
      "  AUTHORS   Lafay,B.\n",
      "  TITLE     Direct Submission\n",
      "  JOURNAL   Submitted (26-JUL-1994) B. Lafay, CNRS & Universite Paris 6,\n",
      "            Station Zoologique, Observatoire Oceanologique, Villefranche Sur\n",
      "            Mer, 06230, FRANCE\n",
      "FEATURES             Location/Qualifiers\n",
      "     source          1..1448\n",
      "                     /organism=\"Escherichia coli\"\n",
      "                     /mol_type=\"genomic DNA\"\n",
      "                     /strain=\"PK3\"\n",
      "                     /db_xref=\"taxon:562\"\n",
      "     gene            1..1448\n",
      "                     /gene=\"rrnA\"\n",
      "     rRNA            1..1448\n",
      "                     /gene=\"rrnA\"\n",
      "                     /product=\"16S ribosomal RNA\"\n",
      "ORIGIN      \n",
      "        1 gtttgatcat ggctcagatt gaacgctggc ggcaggccta acacatgcaa gtcgaacggt\n",
      "       61 aacaggaaga agcttgcttc tttgctgacg agtggcggac gggtgagtaa tgtctgggaa\n",
      "      121 actgcctgat ggagggggat aactactgga aacggtagct aataccgcat aacgtcgcaa\n",
      "      181 gaccaaagag ggggaccttc gggcctcttg ccatcggatg tgcccagatg ggattagcta\n",
      "      241 gtaggtgggg taacggctca cctaggcgac gatccctagc tggtctgaga ggatgaccag\n",
      "      301 ccacactgga actgagacac ggtccagact cctacgggag gcagcagtgg ggaatattgc\n",
      "      361 acaatgggcg caagcctgat gcagccatgc cgcgtgtatg aagaaggcct tcgggttgta\n",
      "      421 aagtactttc agcggggagg aagggagtaa agttaatacc tttgctcatt gacgttaccc\n",
      "      481 gcagaagaag caccggctaa ctccgtgcca gcagccgcgg taatacggag ggtgcaagcg\n",
      "      541 ttaatcggaa ttactgggcg taaagcgcac gcaggcggtt tgttaagtca gatgtgaaat\n",
      "      601 ccccgggctc aacctgggaa ctgcatctga tactggcaag cttgagtctc gtagaggggg\n",
      "      661 gtagaattcc aggtgtagcg gtgaaatgcg tagagatctg gaggaatacc ggtggcgaag\n",
      "      721 gcggccccct ggacgaagac tgacgctcag gtgcgaaagc gtggggagca aacaggatta\n",
      "      781 gataccctgg tagtccacgc cgtaaacgat gtcgacttgg aggttgtgcc cttgaggcgt\n",
      "      841 ggcttccgga nntaacgcgt taagtcgacc gcctggggag tacggccgca aggttaaaac\n",
      "      901 tcaaatgaat tgacgggggc cgcacaagcg gtggagcatg tggtttaatt cgatgcaacg\n",
      "      961 cgaagaacct tacctggtct tgacatccac ggaagttttc agagatgaga atgtgccttc\n",
      "     1021 gggaaccgtg agacaggtgc tgcatggctg tcgtcagctc gtgttgtgaa atgttgggtt\n",
      "     1081 aagtcccgca acgagcgcaa cccttatcct ttgttgccag cggtccggcc gggaactcaa\n",
      "     1141 aggagactgc cagtgataaa ctggaggaag gtggggatga cgtcaagtca tcatggccct\n",
      "     1201 tacgaccagg gctacacacg tgctacaatg gcgcatacaa agagaagcga cctcgcgaga\n",
      "     1261 gcaagcggac ctcataaagt gcgtcgtagt ccggattgga gtctgcaact cgactccatg\n",
      "     1321 aagtcggaat cgctagtaat cgtggatcag aatgccacgg tgaatacgtt cccgggcctt\n",
      "     1381 gtacacaccg cccgtcacac catgggagtg ggttgcaaaa gaagtaggta gcttaacttc\n",
      "     1441 gggagggc\n",
      "//\n"
     ]
    }
   ],
   "source": [
    "import re\n",
    "\n",
    "ficheiro = open(\"E.coli rRNA gene\",'r')\n",
    "file = ficheiro.read()\n",
    "print (file)"
   ]
  },
  {
   "cell_type": "code",
   "execution_count": 152,
   "id": "c35f4412",
   "metadata": {},
   "outputs": [
    {
     "name": "stdout",
     "output_type": "stream",
     "text": [
      "Escherichia coli\n",
      "X80721\n",
      "16S ribosomal RNA; 16S rRNA gene; 16S small subunit ribosomal RNA.\n",
      "29 03 1996\n"
     ]
    },
    {
     "data": {
      "text/plain": [
       "['        1 gtttgatcat ggctcagatt gaacgctggc ggcaggccta acacatgcaa gtcgaacggt',\n",
       " '       61 aacaggaaga agcttgcttc tttgctgacg agtggcggac gggtgagtaa tgtctgggaa',\n",
       " '      121 actgcctgat ggagggggat aactactgga aacggtagct aataccgcat aacgtcgcaa',\n",
       " '      181 gaccaaagag ggggaccttc gggcctcttg ccatcggatg tgcccagatg ggattagcta',\n",
       " '      241 gtaggtgggg taacggctca cctaggcgac gatccctagc tggtctgaga ggatgaccag',\n",
       " '      301 ccacactgga actgagacac ggtccagact cctacgggag gcagcagtgg ggaatattgc',\n",
       " '      361 acaatgggcg caagcctgat gcagccatgc cgcgtgtatg aagaaggcct tcgggttgta',\n",
       " '      421 aagtactttc agcggggagg aagggagtaa agttaatacc tttgctcatt gacgttaccc',\n",
       " '      481 gcagaagaag caccggctaa ctccgtgcca gcagccgcgg taatacggag ggtgcaagcg',\n",
       " '      541 ttaatcggaa ttactgggcg taaagcgcac gcaggcggtt tgttaagtca gatgtgaaat',\n",
       " '      601 ccccgggctc aacctgggaa ctgcatctga tactggcaag cttgagtctc gtagaggggg',\n",
       " '      661 gtagaattcc aggtgtagcg gtgaaatgcg tagagatctg gaggaatacc ggtggcgaag',\n",
       " '      721 gcggccccct ggacgaagac tgacgctcag gtgcgaaagc gtggggagca aacaggatta',\n",
       " '      781 gataccctgg tagtccacgc cgtaaacgat gtcgacttgg aggttgtgcc cttgaggcgt',\n",
       " '      841 ggcttccgga ',\n",
       " '      901 tcaaatgaat tgacgggggc cgcacaagcg gtggagcatg tggtttaatt cgatgcaacg',\n",
       " '      961 cgaagaacct tacctggtct tgacatccac ggaagttttc agagatgaga atgtgccttc',\n",
       " '     1021 gggaaccgtg agacaggtgc tgcatggctg tcgtcagctc gtgttgtgaa atgttgggtt',\n",
       " '     1081 aagtcccgca acgagcgcaa cccttatcct ttgttgccag cggtccggcc gggaactcaa',\n",
       " '     1141 aggagactgc cagtgataaa ctggaggaag gtggggatga cgtcaagtca tcatggccct',\n",
       " '     1201 tacgaccagg gctacacacg tgctacaatg gcgcatacaa agagaagcga cctcgcgaga',\n",
       " '     1261 gcaagcggac ctcataaagt gcgtcgtagt ccggattgga gtctgcaact cgactccatg',\n",
       " '     1321 aagtcggaat cgctagtaat cgtggatcag aatgccacgg tgaatacgtt cccgggcctt',\n",
       " '     1381 gtacacaccg cccgtcacac catgggagtg ggttgcaaaa gaagtaggta gcttaacttc',\n",
       " '     1441 gggagggc']"
      ]
     },
     "execution_count": 152,
     "metadata": {},
     "output_type": "execute_result"
    }
   ],
   "source": [
    "#Source\n",
    "existe = re.search(r'SOURCE\\s+(.+)', file)\n",
    "if existe:\n",
    "    print( existe[1])\n",
    "    Source = re.match(r'SOURCE\\s+(.+)', existe[1] )\n",
    "\n",
    "#Accession Number\n",
    "existe = re.search(r'ACCESSION\\s+(.+)', file)\n",
    "if existe:\n",
    "    print( existe[1] )\n",
    "    ACCESSION = re.match(r'ACCESSION\\s+(.+)', existe[1] )\n",
    "    \n",
    "#Keywords\n",
    "existe = re.search(r'KEYWORDS\\s+(.+)', file)\n",
    "if existe:\n",
    "    print( existe[1] )\n",
    "    KEYWORDS = re.match(r'KEYWORDS\\s+(.+)', existe[1] )\n",
    "\n",
    "#Genome Publication Date (March 29, 1996)\n",
    "PUBLICATION = \"29/03/1996\"\n",
    "date = re.match(r\"(\\d\\d)[/-](\\d\\d)[/-](\\d\\d\\d\\d)\", PUBLICATION)\n",
    "if date:\n",
    "    print( date.group(1), date.group(2), date.group(3) )\n",
    "    \n",
    "\n",
    "#Sequence (dúvidas!!!!)\n",
    "re.findall(\"^\\s+\\d+ [actg ]+\", locus, re.MULTILINE)"
   ]
  }
 ],
 "metadata": {
  "kernelspec": {
   "display_name": "Python 3 (ipykernel)",
   "language": "python",
   "name": "python3"
  },
  "language_info": {
   "codemirror_mode": {
    "name": "ipython",
    "version": 3
   },
   "file_extension": ".py",
   "mimetype": "text/x-python",
   "name": "python",
   "nbconvert_exporter": "python",
   "pygments_lexer": "ipython3",
   "version": "3.9.12"
  }
 },
 "nbformat": 4,
 "nbformat_minor": 5
}
